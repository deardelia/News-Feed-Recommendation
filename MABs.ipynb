{
 "cells": [
  {
   "cell_type": "markdown",
   "metadata": {},
   "source": [
    "# COMP90051 Project 2"
   ]
  },
  {
   "cell_type": "code",
   "execution_count": 2,
   "metadata": {
    "collapsed": true
   },
   "outputs": [],
   "source": [
    "# Do not edit. These are the only imports permitted.\n",
    "%matplotlib inline\n",
    "import numpy as np\n",
    "from numpy.linalg import inv\n",
    "import matplotlib.pyplot as plt\n",
    "from abc import ABC, abstractmethod"
   ]
  },
  {
   "cell_type": "markdown",
   "metadata": {},
   "source": [
    "## 1. Implement ε-Greedy and UCB"
   ]
  },
  {
   "cell_type": "code",
   "execution_count": 3,
   "metadata": {
    "collapsed": true
   },
   "outputs": [],
   "source": [
    "class MAB(ABC):\n",
    "    \n",
    "    \"\"\"\n",
    "    Abstract class that represents a multi-armed bandit (MAB)\n",
    "    \"\"\"\n",
    "    \n",
    "    \n",
    "    @abstractmethod\n",
    "    def play(self, tround, context):\n",
    "        \"\"\"\n",
    "        Play a round\n",
    "        \n",
    "        Arguments\n",
    "        =========\n",
    "        tround : int\n",
    "            positive integer identifying the round\n",
    "        \n",
    "        context : 1D float array, shape (self.ndims * self.narms), optional\n",
    "            context given to the arms\n",
    "        \n",
    "        Returns\n",
    "        =======\n",
    "        arm : int\n",
    "            the positive integer arm id for this round\n",
    "        \"\"\"\n",
    "    \n",
    "    \n",
    "    @abstractmethod\n",
    "    def update(self, arm, reward, context):\n",
    "        \"\"\"\n",
    "        Updates the internal state of the MAB after a play\n",
    "        \n",
    "        Arguments\n",
    "        =========\n",
    "        arm : int\n",
    "            a positive integer arm id in {1, ..., self.narms}\n",
    "        \n",
    "        reward : float\n",
    "            reward received from arm\n",
    "        \n",
    "        context : 1D float array, shape (self.ndims * self.narms), optional\n",
    "            context given to arms\n",
    "        \"\"\""
   ]
  },
  {
   "cell_type": "code",
   "execution_count": 4,
   "metadata": {
    "collapsed": false
   },
   "outputs": [],
   "source": [
    "class EpsGreedy(MAB):\n",
    "    \n",
    "    \"\"\"\n",
    "    Epsilon-Greedy multi-armed bandit\n",
    "\n",
    "    Arguments\n",
    "    =========\n",
    "    narms : int\n",
    "        number of arms\n",
    "\n",
    "    epsilon : float\n",
    "        explore probability\n",
    "\n",
    "    Q0 : float, optional\n",
    "        initial value for the arms\n",
    "    \"\"\"\n",
    "    \n",
    "    \n",
    "    def __init__(self, narms, epsilon, Q0=np.inf):\n",
    "        self.narms = narms\n",
    "        self.epsilon = epsilon\n",
    "        # valueQ list to store the estimate value of each arm as average reward, initial to inf\n",
    "        self.valueQ = [Q0 for i in range(narms)]\n",
    "        # count list to store how many times we play the arms, initial to zero\n",
    "        self.count = np.zeros(narms)   \n",
    " \n",
    "\n",
    "    def play(self, tround, context=None):\n",
    "        # we exploit when random number is greater than epsilon, otherwise we explore\n",
    "        if np.random.random() > self.epsilon:\n",
    "            # exploitation: find maximum value list and randomly select an arm from it\n",
    "            values = self.valueQ\n",
    "            nextArmList = []\n",
    "            for index, value in enumerate(values):\n",
    "                if value == max(values):\n",
    "                    nextArmList.append(index)\n",
    "            # tie-breaking\n",
    "            nextArm = int(np.random.choice(nextArmList))\n",
    "        else:\n",
    "            # exploration: random choose next arm\n",
    "            nextArm = np.random.randint(self.narms)\n",
    "        nextArm = nextArm + 1  # index is from 0, so add 1 to be the arm number\n",
    "        return nextArm      \n",
    "        \n",
    "        \n",
    "    def update(self, arm, reward, context=None):\n",
    "        index = arm - 1  # index is from 0, so subtract 1 from the arm number\n",
    "        currentQ = self.valueQ[index]\n",
    "        # if arm not explored, change the reward value to zero\n",
    "        if currentQ == np.inf:\n",
    "            currentQ = 0     \n",
    "        self.count[index] = self.count[index] + 1\n",
    "        currentC = self.count[index]\n",
    "        # update the estimate value with previous weighted average value + new reward \n",
    "        self.valueQ[index] = (currentQ * (currentC - 1) + reward) / currentC\n",
    "        "
   ]
  },
  {
   "cell_type": "code",
   "execution_count": 6,
   "metadata": {
    "collapsed": false
   },
   "outputs": [],
   "source": [
    "class UCB(MAB):\n",
    "    \n",
    "    \"\"\"\n",
    "    Upper Confidence Bound (UCB) multi-armed bandit\n",
    "\n",
    "    Arguments\n",
    "    =========\n",
    "    narms : int\n",
    "        number of arms\n",
    "\n",
    "    rho : float\n",
    "        positive real explore-exploit parameter\n",
    "\n",
    "    Q0 : float, optional\n",
    "        initial value for the arms\n",
    "    \"\"\"\n",
    "    \n",
    "    \n",
    "    def __init__(self, narms, rho, Q0=np.inf):\n",
    "        self.Q0 = Q0\n",
    "        self.narms = narms\n",
    "        self.rho = rho\n",
    "        # count list to store how many times we play each arm, initial to zero\n",
    "        self.count = np.zeros(narms)\n",
    "        # average value list to store the average amount of reward of each arm, initial to inf\n",
    "        self.avgList = [Q0 for i in range(narms)]\n",
    "        # valueQ list to store the estimate value of each arm\n",
    "        self.valueQ = [Q0 for i in range(narms)]\n",
    "        \n",
    "        \n",
    "    def play(self, tround, context=None):\n",
    "        self.tround = tround\n",
    "        values = self.valueQ\n",
    "        nextArmList = []\n",
    "        for index, value in enumerate(values):\n",
    "            if value == max(values):\n",
    "                nextArmList.append(index + 1)  # index is from 0, so add 1 to be the arm number\n",
    "        # tie-breaking\n",
    "        nextArm = int(np.random.choice(nextArmList))\n",
    "        return nextArm\n",
    "        \n",
    "        \n",
    "    def update(self, arm, reward, context=None):\n",
    "        index = arm - 1  # index is from 0, so subtract 1 from the arm number\n",
    "        average = self.avgList[index]\n",
    "        # if arm not explored, change the reward value to zero\n",
    "        if average == np.inf:\n",
    "            average = 0     \n",
    "        self.count[index] = self.count[index] + 1\n",
    "        currentC = self.count[index]\n",
    "        # update the average value with previous weighted average value + new reward \n",
    "        self.avgList[index] = (average * (currentC - 1) + reward) / currentC\n",
    "        # update extimate Q value of each chosen arm\n",
    "        for i in range(self.narms):\n",
    "            mean = self.avgList[i]\n",
    "            if mean != np.inf:  # update Q value for the arms that have been explored\n",
    "                self.valueQ[i] = mean + np.sqrt((self.rho * np.log(self.tround)) / self.count[i])\n",
    " "
   ]
  },
  {
   "cell_type": "markdown",
   "metadata": {},
   "source": [
    "## 2. Off-Policy Evaluation"
   ]
  },
  {
   "cell_type": "code",
   "execution_count": 5,
   "metadata": {
    "collapsed": true
   },
   "outputs": [],
   "source": [
    "def offlineEvaluate(mab, arms, rewards, contexts, nrounds=None):\n",
    "    \"\"\"\n",
    "    Offline evaluation of a multi-armed bandit\n",
    "    \n",
    "    Arguments\n",
    "    =========\n",
    "    mab : instance of MAB\n",
    "    \n",
    "    arms : 1D int array, shape (nevents,) \n",
    "        integer arm id for each event\n",
    "    \n",
    "    rewards : 1D float array, shape (nevents,)\n",
    "        reward received for each event\n",
    "    \n",
    "    contexts : 2D float array, shape (nevents, mab.narms*nfeatures)\n",
    "        contexts presented to the arms (stacked horizontally) \n",
    "        for each event.\n",
    "        \n",
    "    nrounds : int, optional\n",
    "        number of matching events to evaluate `mab` on.\n",
    "    \n",
    "    Returns\n",
    "    =======\n",
    "    out : 1D float array\n",
    "        rewards for the matching events\n",
    "    \"\"\"\n",
    "    \n",
    "    recordId = 0\n",
    "    rewardList = []\n",
    "    \n",
    "    for t in range(1, nrounds + 1):\n",
    "        # get next event\n",
    "        armPredicted = mab.play(t, contexts[recordId])\n",
    "        # find same arm as the one that was selected by logging policy\n",
    "        while armPredicted != arms[recordId]:\n",
    "            recordId += 1\n",
    "            armPredicted = mab.play(t, contexts[recordId])\n",
    "        # retain the event \n",
    "        mab.update(armPredicted, rewards[recordId], contexts[recordId])\n",
    "        # store the rewards in a list to evaluate the result\n",
    "        rewardList.append(rewards[recordId])\n",
    "        recordId += 1\n",
    "\n",
    "    return rewardList\n",
    "    "
   ]
  },
  {
   "cell_type": "code",
   "execution_count": 8,
   "metadata": {
    "collapsed": false
   },
   "outputs": [],
   "source": [
    "# Load the data file\n",
    "data = np.loadtxt('dataset.txt')\n",
    "arms = data[:,0]\n",
    "rewards = data[:,1]\n",
    "contexts = data[:,2:]"
   ]
  },
  {
   "cell_type": "code",
   "execution_count": null,
   "metadata": {
    "collapsed": false
   },
   "outputs": [],
   "source": [
    "mab = EpsGreedy(10, 0.05)\n",
    "results_EpsGreedy = offlineEvaluate(mab, arms, rewards, contexts, 800)\n",
    "print('EpsGreedy average reward', np.mean(results_EpsGreedy))"
   ]
  },
  {
   "cell_type": "code",
   "execution_count": 10,
   "metadata": {
    "collapsed": false,
    "scrolled": true
   },
   "outputs": [
    {
     "name": "stdout",
     "output_type": "stream",
     "text": [
      "UCB average reward 0.14875\n"
     ]
    }
   ],
   "source": [
    "mab = UCB(10, 1.0)\n",
    "results_UCB = offlineEvaluate(mab, arms, rewards, contexts, 800)\n",
    "print('UCB average reward', np.mean(results_UCB))"
   ]
  },
  {
   "cell_type": "markdown",
   "metadata": {},
   "source": [
    "## 3. Contextual Bandits"
   ]
  },
  {
   "cell_type": "code",
   "execution_count": 11,
   "metadata": {
    "collapsed": false
   },
   "outputs": [],
   "source": [
    "class LinUCB(MAB):\n",
    "    \"\"\"\n",
    "    Contextual multi-armed bandit (LinUCB)\n",
    "\n",
    "    Arguments\n",
    "    =========\n",
    "    narms : int\n",
    "        number of arms\n",
    "\n",
    "    ndims : int\n",
    "        number of dimensions for each arm's context\n",
    "\n",
    "    alpha : float\n",
    "        positive real explore-exploit parameter\n",
    "    \"\"\"\n",
    "    def __init__(self, narms, ndims, alpha):\n",
    "        self.narms = narms\n",
    "        self.ndims = ndims\n",
    "        self.alpha = alpha\n",
    "        self.Aa = {}\n",
    "        self.ba = {}\n",
    "        self.p = np.zeros(narms)\n",
    "        # initialize matrix and vector list for every arms\n",
    "        for index in range(narms):\n",
    "            # ndims*ndims \n",
    "            self.Aa[index] = np.identity(ndims)\n",
    "            # ndims*1 \n",
    "            self.ba[index] = np.zeros((ndims, 1))\n",
    "\n",
    "        \n",
    "    def play(self, tround, context):\n",
    "        # reshape the context from 100*1 to 10*10 matrix\n",
    "        reshapedContext = context.reshape(self.narms, self.ndims)\n",
    "        nextArmList = []\n",
    "        # calculate p value for each arms\n",
    "        for index in range(self.narms):\n",
    "            xaT = reshapedContext[index]\n",
    "            xa = np.transpose([xaT])\n",
    "            theta = np.dot(np.linalg.inv(self.Aa[index]), self.ba[index])\n",
    "            self.p[index] = np.dot(xaT, theta) + self.alpha * np.sqrt(np.dot(np.dot(xaT, np.linalg.inv(self.Aa[index])), xa))\n",
    "        # find the arms with maximum p value\n",
    "        for index, value in enumerate(self.p):\n",
    "            if value == max(self.p):\n",
    "                nextArmList.append(index)\n",
    "        # tie-breaking\n",
    "        nextArm = int(np.random.choice(nextArmList)) + 1\n",
    "        return nextArm\n",
    "    \n",
    "    \n",
    "    def update(self, arm, reward, context):\n",
    "        index = arm - 1\n",
    "        reshapedContext = context.reshape(self.narms, self.ndims)\n",
    "        feature = np.array(reshapedContext[index])\n",
    "        # change feature from (!0,) to (1,10)\n",
    "        feature = feature[np.newaxis,:]\n",
    "        featureT = np.transpose([reshapedContext[index]])\n",
    "        # update Aa and ba\n",
    "        self.Aa[index] = self.Aa[index] + np.dot(featureT, feature)\n",
    "        self.ba[index] = self.ba[index] + reward * np.transpose([reshapedContext[index]])\n"
   ]
  },
  {
   "cell_type": "code",
   "execution_count": 12,
   "metadata": {
    "collapsed": false
   },
   "outputs": [
    {
     "name": "stdout",
     "output_type": "stream",
     "text": [
      "LinUCB average reward 0.53\n"
     ]
    }
   ],
   "source": [
    "mab = LinUCB(10, 10, 1)\n",
    "results_LinUCB = offlineEvaluate(mab, arms, rewards, contexts, 800)\n",
    "print('LinUCB average reward', np.mean(results_LinUCB))"
   ]
  },
  {
   "cell_type": "markdown",
   "metadata": {},
   "source": [
    "## 4. Evaluation\n",
    "### 4.A."
   ]
  },
  {
   "cell_type": "code",
   "execution_count": 16,
   "metadata": {
    "collapsed": false
   },
   "outputs": [
    {
     "data": {
      "image/png": "[encoded data removed]",
      "text/plain": [
       "<Figure size 432x288 with 1 Axes>"
      ]
     },
     "metadata": {
      "needs_background": "light"
     },
     "output_type": "display_data"
    }
   ],
   "source": [
    "# initialize the dataset to print the figure\n",
    "figEpsGreedy = [np.mean(results_EpsGreedy[0:t]) for t in range(1, 800)]\n",
    "figUCB = [np.mean(results_UCB[0:t]) for t in range(1, 800)]\n",
    "figLinUCB = [np.mean(results_LinUCB[0:t]) for t in range(1, 800)]\n",
    "# use matplotlib to print the figure\n",
    "plt.plot(figEpsGreedy, 'r', linewidth=1.2, label='EpsGreedy')\n",
    "plt.plot(figUCB, 'g', linewidth=1.2, label='UCB')\n",
    "plt.plot(figLinUCB, 'b', linewidth=1.2, label='LinUCB')\n",
    "# label and title\n",
    "plt.title('Cumulative Reward for Different MAB approach')\n",
    "plt.xlabel('Round T')\n",
    "plt.ylabel('per-round Cumulative Reward')\n",
    "plt.legend()\n",
    "plt.show()"
   ]
  },
  {
   "cell_type": "markdown",
   "metadata": {},
   "source": [
    "### 4.B."
   ]
  },
  {
   "cell_type": "code",
   "execution_count": null,
   "metadata": {
    "collapsed": false
   },
   "outputs": [],
   "source": [
    "# set x-axis, start from 0.1, step is 0.1, end to 2\n",
    "alphaList = [alpha for alpha in np.arange(0, 2, 0.1)]\n",
    "# set y-axis\n",
    "alphaDict = dict()\n",
    "for alpha in alphaList:\n",
    "    alpha = round(float(alpha), 2)\n",
    "    timer = 4\n",
    "    t = 0\n",
    "    resultList = []\n",
    "    # for each mab we run three times and find mean of them\n",
    "    while t < timer:\n",
    "        mab = LinUCB(10, 10, alpha)\n",
    "        resultSingle = offlineEvaluate(mab, arms, rewards, contexts, 800)\n",
    "        resultList.append(resultSingle)\n",
    "        t = t + 1\n",
    "    result = np.mean(resultList)\n",
    "    # store alpha, cumulative reward as the key, value in dictionary\n",
    "    alphaDict.update({alpha: result})\n",
    "\n",
    "bestAlpha = max(alphaDict, key=alphaDict.get)\n",
    "print(\"When alpha is chosen to be %f, the cumulative reward is the largest.\"%(bestAlpha))"
   ]
  },
  {
   "cell_type": "code",
   "execution_count": 71,
   "metadata": {
    "collapsed": false
   },
   "outputs": [
    {
     "data": {
      "image/png": "[encoded data removed]",
      "text/plain": [
       "<Figure size 432x288 with 1 Axes>"
      ]
     },
     "metadata": {
      "needs_background": "light"
     },
     "output_type": "display_data"
    }
   ],
   "source": [
    "# plot Cumulative Reward with different alpha in LinUCB\n",
    "lists = sorted(alphaDict.items())\n",
    "x, y = zip(*lists)\n",
    "plot = plt.plot(x, y, 'b', linewidth=1.2)\n",
    "plt.plot(x, y, 'bo', markersize = 4)\n",
    "myTicks = []\n",
    "# set x-axis labels\n",
    "myTicks = [str(round(float(alpha), 2)) for alpha in np.arange(0, 2, 0.1)]\n",
    "plt.title('Cumulative Reward with different alpha in LinUCB')\n",
    "plt.xlabel('Hyperparameter alpha')\n",
    "plt.ylabel('Cumulative Reward')\n",
    "plt.xticks(x, myTicks)\n",
    "plt.show()"
   ]
  },
  {
   "cell_type": "markdown",
   "metadata": {},
   "source": [
    "## 5. KernelUCB"
   ]
  },
  {
   "cell_type": "code",
   "execution_count": 94,
   "metadata": {
    "collapsed": false
   },
   "outputs": [],
   "source": [
    "# Do not edit. Special import for this section.\n",
    "from sklearn.metrics.pairwise import rbf_kernel"
   ]
  },
  {
   "cell_type": "code",
   "execution_count": null,
   "metadata": {
    "collapsed": true
   },
   "outputs": [],
   "source": [
    "class KernelUCB(MAB):\n",
    "    \"\"\"\n",
    "    Kernelised contextual multi-armed bandit (Kernelised LinUCB)\n",
    "    \n",
    "    Arguments\n",
    "    =========\n",
    "    narms : int\n",
    "        number of arms\n",
    "\n",
    "    ndims : int\n",
    "        number of dimensions for each arm's context\n",
    "\n",
    "    gamma : float\n",
    "        positive real explore-exploit parameter\n",
    "    \n",
    "    eta : float\n",
    "        positive real explore-exploit parameter\n",
    "    \n",
    "    kern : callable\n",
    "        a kernel function from sklearn.metrics.pairwise\n",
    "    \"\"\"\n",
    "    def __init__(self, narms, ndims, gamma, eta, kern):\n",
    "        self.narms = narms\n",
    "        self.ndims = ndims\n",
    "        # hyperparameters\n",
    "        self.alpha = alpha\n",
    "        self.eta = eta\n",
    "        self.kern = kern\n",
    "        self.u = {}\n",
    "            \n",
    "    def play(self, tround, context):\n",
    "        # reshape the context from 100*1 to 10*10 matrix\n",
    "        reshapedContext = context.reshape(self.narms, self.ndims)\n",
    "        if tround == 1:\n",
    "            zeroList = np.zeros(self.narms)\n",
    "            zeroList[0] = 1\n",
    "            self.u[tround] = np.transpose([zeroList])\n",
    "        else:\n",
    "            for n in range (self.narms):\n",
    "                xaT = reshapedContext[n]\n",
    "                xa = np.transpose([xaT])\n",
    "                k = []\n",
    "                K = np.dot(xaT, xa)\n",
    "                k = np.transpose([k.append(rbf_kernel(xa))])\n",
    "                sigma = np.sqrt(self.kern(reshapedContext[n],reshapedContext[n]) - \n",
    "                                np.dot(np.dot(np.transpose([self.kern(k)]),K),self.kern(k)))\n",
    "                u[tround] = np.dot(np.transpose([self.kern(k)])\n",
    "                \n",
    "    \n",
    "    def update(self, arm, reward, context):\n",
    "        index = arm - 1\n",
    "        reshapedContext = context.reshape(self.narms, self.ndims)\n",
    "        feature = np.array(reshapedContext[index])\n",
    "        feature = feature[np.newaxis,:]\n",
    "        featureT = np.transpose([reshapedContext[index]])\n",
    "        self.u[index] = self.u[index] + np.dot(featureT, feature)    \n",
    "        "
   ]
  },
  {
   "cell_type": "code",
   "execution_count": null,
   "metadata": {
    "collapsed": true
   },
   "outputs": [],
   "source": [
    "mab = KernelUCB(10, 10, 1)\n",
    "results_KernelUCB = offlineEvaluate(mab, arms, rewards, contexts, 800)\n",
    "print('Kernel average reward', np.mean(results_KernelUCB))"
   ]
  }
 ],
 "metadata": {
  "kernelspec": {
   "display_name": "Python 3",
   "language": "python",
   "name": "python3"
  },
  "language_info": {
   "codemirror_mode": {
    "name": "ipython",
    "version": 3
   },
   "file_extension": ".py",
   "mimetype": "text/x-python",
   "name": "python",
   "nbconvert_exporter": "python",
   "pygments_lexer": "ipython3",
   "version": "3.7.0"
  }
 },
 "nbformat": 4,
 "nbformat_minor": 2
}
